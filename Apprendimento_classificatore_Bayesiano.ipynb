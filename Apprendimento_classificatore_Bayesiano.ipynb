{
  "cells": [
    {
      "cell_type": "markdown",
      "metadata": {
        "id": "view-in-github",
        "colab_type": "text"
      },
      "source": [
        "<a href=\"https://colab.research.google.com/github/kozen88/HCV_DM23/blob/main/Apprendimento_classificatore_Bayesiano.ipynb\" target=\"_parent\"><img src=\"https://colab.research.google.com/assets/colab-badge.svg\" alt=\"Open In Colab\"/></a>"
      ]
    },
    {
      "cell_type": "markdown",
      "source": [
        "# Addestramento di un classificatrore Bayesiano"
      ],
      "metadata": {
        "id": "7ChpdJegvIA_"
      }
    },
    {
      "cell_type": "markdown",
      "source": [
        "In questo notebook andremo ad addestrare un o più classificatori Bayesiani cercando di effettuari quanti più esperimenti possibili per creare una baseline del problema che stiamo affrontando e cercare di tirare fuori un modello capace di battere il nostro attuale lower bound rappresentato dallo stimatore moda."
      ],
      "metadata": {
        "id": "Q1GZlgmfvgxq"
      }
    },
    {
      "cell_type": "code",
      "source": [
        "import pandas as pd\n",
        "import matplotlib.pyplot as plt\n",
        "%matplotlib inline\n",
        "import numpy as np\n",
        "import seaborn as sb\n",
        "sb.set()\n"
      ],
      "metadata": {
        "id": "t-mjx1Nwv4tg"
      },
      "execution_count": 3,
      "outputs": []
    },
    {
      "cell_type": "code",
      "source": [
        "df = pd.read_csv('HCV-Egy-Data.csv', delimiter=',')\n",
        "print(df)"
      ],
      "metadata": {
        "id": "LPw2vTuZwkpX"
      },
      "execution_count": null,
      "outputs": []
    },
    {
      "cell_type": "code",
      "source": [
        "df_reduced = pd.read_csv('pca_reduced_df_uncleaned.csv', delimiter=',')\n",
        "print(df_reduced)"
      ],
      "metadata": {
        "id": "Hn3PyeVow9Cr"
      },
      "execution_count": null,
      "outputs": []
    },
    {
      "cell_type": "markdown",
      "source": [
        "Primo esperimento addestramento Gaussian Naive Bayes su il dataframe di partenza uncleaned con approccio classico con una cross-validation a 10 folds."
      ],
      "metadata": {
        "id": "dt_BubjDz_Xg"
      }
    },
    {
      "cell_type": "code",
      "source": [
        "# inizio dell'addestramento con Gaussina Naive Bayes\n",
        "from sklearn.naive_bayes import GaussianNB\n",
        "from sklearn.model_selection import train_test_split, cross_val_score\n",
        "from sklearn import metrics\n",
        "\n",
        "# preparazione del data set diviso infeature e target\n",
        "X = df.drop('Baselinehistological staging', axis=1)\n",
        "y = df['Baselinehistological staging']\n",
        "\n",
        "# istanziazione del modello Gaussian Naive Bayes\n",
        "model_GB = GaussianNB()\n",
        "\n",
        "# usiamo la cross-val\n",
        "scores = cross_val_score(model_GB, X, y, cv=10)\n",
        "mean_accurancy = scores.mean()\n",
        "print(\"Accurancy su ogni ciclo della cross-validation:\", scores)\n",
        "print(\"Accurancy mediata su i 10 fold fatti:\", mean_accurancy)\n"
      ],
      "metadata": {
        "id": "a42UitvPyinI",
        "outputId": "8d53e131-df53-44fe-f6cc-0efddbdff702",
        "colab": {
          "base_uri": "https://localhost:8080/"
        }
      },
      "execution_count": 15,
      "outputs": [
        {
          "output_type": "stream",
          "name": "stdout",
          "text": [
            "Accurancy su ogni ciclo della cross-validation: [0.25179856 0.21582734 0.26618705 0.24460432 0.27338129 0.23188406\n",
            " 0.20289855 0.29710145 0.23188406 0.25362319]\n",
            "Accurancy mediata su i 10 fold fatti: 0.24691898654989056\n"
          ]
        }
      ]
    },
    {
      "cell_type": "code",
      "source": [
        "# creiamo questa funzione di addestramento per automatizzare i nostri esperimenti\n",
        "def evaluate_classifiers(cv_values, classifiers, X, y):\n",
        "    for classifier in classifiers:\n",
        "        print(\"Classifier:\", classifier)\n",
        "        for cv in cv_values:\n",
        "            model = classifier()\n",
        "            scores = cross_val_score(model, X, y, cv=cv)\n",
        "            mean_accuracy = scores.mean()\n",
        "            print(\"CV:\", cv)\n",
        "            print(\"Mean Accuracy:\", mean_accuracy)\n",
        "            print(\"Scores:\", scores)\n",
        "            print(\"----------\")\n"
      ],
      "metadata": {
        "id": "xgb1MqfJ2DzZ"
      },
      "execution_count": 16,
      "outputs": []
    },
    {
      "cell_type": "markdown",
      "source": [],
      "metadata": {
        "id": "-UOyVsHk2kmq"
      }
    },
    {
      "cell_type": "markdown",
      "source": [],
      "metadata": {
        "id": "0vU8TUBZ4woo"
      }
    },
    {
      "cell_type": "code",
      "source": [
        "values = [5, 10, 15, 20]\n",
        "classifier_model = [GaussianNB]\n",
        "\n",
        "evaluate_classifiers(values, classifier_model, X, y)"
      ],
      "metadata": {
        "id": "gduSFfdQ2n9l",
        "outputId": "d6f801cb-0e3d-487c-8467-2424165ff6f8",
        "colab": {
          "base_uri": "https://localhost:8080/"
        }
      },
      "execution_count": 20,
      "outputs": [
        {
          "output_type": "stream",
          "name": "stdout",
          "text": [
            "Classifier: <class 'sklearn.naive_bayes.GaussianNB'>\n",
            "CV: 5\n",
            "Mean Accuracy: 0.23826714801444043\n",
            "Scores: [0.22743682 0.2599278  0.20216606 0.24548736 0.25631769]\n",
            "----------\n",
            "CV: 10\n",
            "Mean Accuracy: 0.24691898654989056\n",
            "Scores: [0.25179856 0.21582734 0.26618705 0.24460432 0.27338129 0.23188406\n",
            " 0.20289855 0.29710145 0.23188406 0.25362319]\n",
            "----------\n",
            "CV: 15\n",
            "Mean Accuracy: 0.24475611656537324\n",
            "Scores: [0.2688172  0.19354839 0.27956989 0.27956989 0.21505376 0.26086957\n",
            " 0.29347826 0.22826087 0.18478261 0.15217391 0.32608696 0.22826087\n",
            " 0.23913043 0.27173913 0.25      ]\n",
            "----------\n",
            "CV: 20\n",
            "Mean Accuracy: 0.24333333333333335\n",
            "Scores: [0.24285714 0.24285714 0.21428571 0.22857143 0.27142857 0.26086957\n",
            " 0.2173913  0.27536232 0.30434783 0.20289855 0.24637681 0.1884058\n",
            " 0.17391304 0.24637681 0.36231884 0.24637681 0.14492754 0.28985507\n",
            " 0.27536232 0.23188406]\n",
            "----------\n"
          ]
        }
      ]
    },
    {
      "cell_type": "code",
      "source": [
        "def evaluate_classifiers_with_plot(cv_values, classifiers, X, y):\n",
        "    for classifier in classifiers:\n",
        "        print(\"Classifier:\", classifier)\n",
        "        mean_accuracies_list = []\n",
        "        for cv in cv_values:\n",
        "            model = classifier()\n",
        "            scores = cross_val_score(model, X, y, cv=cv)\n",
        "            mean_accuracy = scores.mean()\n",
        "            mean_accuracies_list.append(mean_accuracy)\n",
        "            print(\"CV:\", cv)\n",
        "            print(\"Mean Accuracy:\", mean_accuracy)\n",
        "            print(\"Scores:\", scores)\n",
        "            print(\"----------\")\n",
        "\n",
        "        # Plotting the mean accuracies\n",
        "        cv_range = np.array(cv_values)\n",
        "        plt.plot(cv_range, mean_accuracies_list)\n",
        "        plt.xticks(np.arange(0, max(cv_range) + 1, 5))\n",
        "        plt.xlabel('Number of folds (cv)')\n",
        "        plt.ylabel('Mean Accuracy')\n",
        "        plt.title('Cross-Validation Mean Accuracy')\n",
        "        plt.show()"
      ],
      "metadata": {
        "id": "TR48b6lE4LwX"
      },
      "execution_count": 42,
      "outputs": []
    },
    {
      "cell_type": "markdown",
      "source": [
        "Proviamo a generare dei plot sul comportamente del parametro scelto per effettuare i fold della cross-validation e andiamo ad eseguire una serie di prove per capire quale sia il miglior k."
      ],
      "metadata": {
        "id": "IHrr7ofY9ANM"
      }
    },
    {
      "cell_type": "code",
      "source": [
        "# con questo codice andiamo a cercare di ottimizzare la cross-validation\n",
        "list_cv = range(2,31) # questo esperimento è stato condotto con 30, 100, 300 fold che sono stati documentati\n",
        "evaluate_classifiers_with_plot(list_cv, classifier_model, X, y)"
      ],
      "metadata": {
        "id": "MuJ9HCBa4csZ"
      },
      "execution_count": null,
      "outputs": []
    },
    {
      "cell_type": "markdown",
      "source": [
        "Gli esperimenti condotti purtoppo si dichiarano ad oggi un fallimento sull'addestramento, di seguito proveremo a ripetere gli stessi passi di addestramento fatti precedentemente, ma sul dataset ridotto di dimensionalità con la tecnica della PCA usata anche negli esperimenti condotti sul decision tree."
      ],
      "metadata": {
        "id": "UVvjrsw6-YLR"
      }
    },
    {
      "cell_type": "code",
      "source": [
        "# preparazione degli attributi che faranno da predittori e del target\n",
        "X_pca = df_reduced.drop('Baselinehistological staging', axis=1)\n",
        "y_pca = df_reduced['Baselinehistological staging']\n",
        "\n",
        "# istanziazione del modello Gaussian Naive Bayes\n",
        "model_GB2 = GaussianNB()\n",
        "\n",
        "# usiamo la cross-val\n",
        "scores2 = cross_val_score(model_GB2, X_pca, y_pca, cv=10)\n",
        "mean_accurancy2 = scores2.mean()\n",
        "print(\"Accurancy su ogni ciclo della cross-validation:\", scores2)\n",
        "print(\"Accurancy mediata su i 10 fold fatti:\", mean_accurancy2)"
      ],
      "metadata": {
        "id": "CSAPakxi--z7",
        "outputId": "daa2ffb0-d5b7-4529-8431-f0c3f3cc210f",
        "colab": {
          "base_uri": "https://localhost:8080/"
        }
      },
      "execution_count": 34,
      "outputs": [
        {
          "output_type": "stream",
          "name": "stdout",
          "text": [
            "Accurancy su ogni ciclo della cross-validation: [0.21582734 0.17985612 0.23741007 0.25179856 0.23741007 0.26811594\n",
            " 0.16666667 0.36231884 0.25362319 0.26086957]\n",
            "Accurancy mediata su i 10 fold fatti: 0.24338963611719316\n"
          ]
        }
      ]
    },
    {
      "cell_type": "markdown",
      "source": [
        "Anche in questo caso i risultati non lasciano sperare in bene ma procediamo nella verifica"
      ],
      "metadata": {
        "id": "zM6TL4WdALzy"
      }
    },
    {
      "cell_type": "code",
      "source": [
        "# primo tentativo con i classici valori di cross-val utilizzati in letteratura\n",
        "values2 = [5, 10, 15, 20]\n",
        "classifier_model2 = [GaussianNB]\n",
        "\n",
        "evaluate_classifiers(values2, classifier_model2, X_pca, y_pca)"
      ],
      "metadata": {
        "id": "GTu0i2u0ASV-",
        "outputId": "e8d2be72-6d8a-4bf4-a72c-c8b84f378564",
        "colab": {
          "base_uri": "https://localhost:8080/"
        }
      },
      "execution_count": 35,
      "outputs": [
        {
          "output_type": "stream",
          "name": "stdout",
          "text": [
            "Classifier: <class 'sklearn.naive_bayes.GaussianNB'>\n",
            "CV: 5\n",
            "Mean Accuracy: 0.23826714801444043\n",
            "Scores: [0.18411552 0.24187726 0.24548736 0.25270758 0.26714801]\n",
            "----------\n",
            "CV: 10\n",
            "Mean Accuracy: 0.24338963611719316\n",
            "Scores: [0.21582734 0.17985612 0.23741007 0.25179856 0.23741007 0.26811594\n",
            " 0.16666667 0.36231884 0.25362319 0.26086957]\n",
            "----------\n",
            "CV: 15\n",
            "Mean Accuracy: 0.23622409225494778\n",
            "Scores: [0.21505376 0.17204301 0.16129032 0.2688172  0.19354839 0.2826087\n",
            " 0.2173913  0.2826087  0.23913043 0.13043478 0.31521739 0.31521739\n",
            " 0.2173913  0.25       0.2826087 ]\n",
            "----------\n",
            "CV: 20\n",
            "Mean Accuracy: 0.2383022774327122\n",
            "Scores: [0.21428571 0.25714286 0.2        0.21428571 0.25714286 0.24637681\n",
            " 0.1884058  0.27536232 0.24637681 0.2173913  0.23188406 0.23188406\n",
            " 0.14492754 0.24637681 0.4057971  0.31884058 0.15942029 0.17391304\n",
            " 0.23188406 0.30434783]\n",
            "----------\n"
          ]
        }
      ]
    },
    {
      "cell_type": "code",
      "source": [
        "# ottimizzazione della cross-validation usando il dataframe dove abbiamo applicato la pca\n",
        "list_cv2 = range(2,31) # questo esperimento è stato condotto con 30, 100, 300 fold che sono stati documentati\n",
        "evaluate_classifiers_with_plot(list_cv2, classifier_model, X_pca, y_pca)"
      ],
      "metadata": {
        "id": "850HEdECA4sC",
        "outputId": "afc12f98-948f-404b-88aa-88658fed3592",
        "colab": {
          "base_uri": "https://localhost:8080/",
          "height": 1000
        }
      },
      "execution_count": 43,
      "outputs": [
        {
          "output_type": "stream",
          "name": "stdout",
          "text": [
            "Classifier: <class 'sklearn.naive_bayes.GaussianNB'>\n",
            "CV: 2\n",
            "Mean Accuracy: 0.2469357071958228\n",
            "Scores: [0.24098124 0.25289017]\n",
            "----------\n",
            "CV: 3\n",
            "Mean Accuracy: 0.23468023901863377\n",
            "Scores: [0.2034632  0.23376623 0.26681128]\n",
            "----------\n",
            "CV: 4\n",
            "Mean Accuracy: 0.23902025620096282\n",
            "Scores: [0.19596542 0.23988439 0.23699422 0.28323699]\n",
            "----------\n",
            "CV: 5\n",
            "Mean Accuracy: 0.23826714801444043\n",
            "Scores: [0.18411552 0.24187726 0.24548736 0.25270758 0.26714801]\n",
            "----------\n",
            "CV: 6\n",
            "Mean Accuracy: 0.24117886943973899\n",
            "Scores: [0.19480519 0.19480519 0.23809524 0.22510823 0.32034632 0.27391304]\n",
            "----------\n",
            "CV: 7\n",
            "Mean Accuracy: 0.23538869477955773\n",
            "Scores: [0.20707071 0.21212121 0.24242424 0.22727273 0.22727273 0.28282828\n",
            " 0.24873096]\n",
            "----------\n",
            "CV: 8\n",
            "Mean Accuracy: 0.2419108364892698\n",
            "Scores: [0.1954023  0.21965318 0.24855491 0.23121387 0.24855491 0.27745665\n",
            " 0.28901734 0.22543353]\n",
            "----------\n",
            "CV: 9\n",
            "Mean Accuracy: 0.23395486140584185\n",
            "Scores: [0.2012987  0.19480519 0.20779221 0.23376623 0.24675325 0.18831169\n",
            " 0.32467532 0.24675325 0.26143791]\n",
            "----------\n",
            "CV: 10\n",
            "Mean Accuracy: 0.24338963611719316\n",
            "Scores: [0.21582734 0.17985612 0.23741007 0.25179856 0.23741007 0.26811594\n",
            " 0.16666667 0.36231884 0.25362319 0.26086957]\n",
            "----------\n",
            "CV: 11\n",
            "Mean Accuracy: 0.23251948051948054\n",
            "Scores: [0.22222222 0.16666667 0.25396825 0.21428571 0.21428571 0.23809524\n",
            " 0.1984127  0.23809524 0.33333333 0.20634921 0.272     ]\n",
            "----------\n",
            "CV: 12\n",
            "Mean Accuracy: 0.2484445277361319\n",
            "Scores: [0.22413793 0.18965517 0.23275862 0.21551724 0.28448276 0.26086957\n",
            " 0.22608696 0.1826087  0.33913043 0.30434783 0.26086957 0.26086957]\n",
            "----------\n",
            "CV: 13\n",
            "Mean Accuracy: 0.23831097486537445\n",
            "Scores: [0.18691589 0.17757009 0.26168224 0.23364486 0.23364486 0.25233645\n",
            " 0.26168224 0.20754717 0.16981132 0.37735849 0.24528302 0.22641509\n",
            " 0.26415094]\n",
            "----------\n",
            "CV: 14\n",
            "Mean Accuracy: 0.24477280089524986\n",
            "Scores: [0.19191919 0.24242424 0.22222222 0.26262626 0.24242424 0.22222222\n",
            " 0.25252525 0.25252525 0.15151515 0.26262626 0.35353535 0.27272727\n",
            " 0.24242424 0.25510204]\n",
            "----------\n",
            "CV: 15\n",
            "Mean Accuracy: 0.23622409225494778\n",
            "Scores: [0.21505376 0.17204301 0.16129032 0.2688172  0.19354839 0.2826087\n",
            " 0.2173913  0.2826087  0.23913043 0.13043478 0.31521739 0.31521739\n",
            " 0.2173913  0.25       0.2826087 ]\n",
            "----------\n",
            "CV: 16\n",
            "Mean Accuracy: 0.23982558139534885\n",
            "Scores: [0.25287356 0.1954023  0.16091954 0.28735632 0.2183908  0.24137931\n",
            " 0.18390805 0.22988506 0.22988506 0.22093023 0.18604651 0.34883721\n",
            " 0.3372093  0.22093023 0.20930233 0.31395349]\n",
            "----------\n",
            "CV: 17\n",
            "Mean Accuracy: 0.24843686345360183\n",
            "Scores: [0.24390244 0.20731707 0.18292683 0.25609756 0.29268293 0.18292683\n",
            " 0.25609756 0.2804878  0.2345679  0.20987654 0.16049383 0.27160494\n",
            " 0.40740741 0.30864198 0.24691358 0.17283951 0.30864198]\n",
            "----------\n",
            "CV: 18\n",
            "Mean Accuracy: 0.2477215766689451\n",
            "Scores: [0.20779221 0.22077922 0.24675325 0.27272727 0.22077922 0.20779221\n",
            " 0.27272727 0.25974026 0.23376623 0.25974026 0.25974026 0.14285714\n",
            " 0.27272727 0.37662338 0.27272727 0.22077922 0.16883117 0.34210526]\n",
            "----------\n",
            "CV: 19\n",
            "Mean Accuracy: 0.2505607626371866\n",
            "Scores: [0.21917808 0.20547945 0.21917808 0.28767123 0.24657534 0.23287671\n",
            " 0.23287671 0.26027397 0.28767123 0.21917808 0.26027397 0.19178082\n",
            " 0.19178082 0.32876712 0.35616438 0.23287671 0.26027397 0.19444444\n",
            " 0.33333333]\n",
            "----------\n",
            "CV: 20\n",
            "Mean Accuracy: 0.2383022774327122\n",
            "Scores: [0.21428571 0.25714286 0.2        0.21428571 0.25714286 0.24637681\n",
            " 0.1884058  0.27536232 0.24637681 0.2173913  0.23188406 0.23188406\n",
            " 0.14492754 0.24637681 0.4057971  0.31884058 0.15942029 0.17391304\n",
            " 0.23188406 0.30434783]\n",
            "----------\n",
            "CV: 21\n",
            "Mean Accuracy: 0.2455211455211455\n",
            "Scores: [0.1969697  0.24242424 0.21212121 0.16666667 0.3030303  0.27272727\n",
            " 0.21212121 0.27272727 0.22727273 0.27272727 0.25757576 0.21212121\n",
            " 0.25757576 0.18181818 0.28787879 0.34848485 0.36363636 0.16666667\n",
            " 0.21212121 0.1969697  0.29230769]\n",
            "----------\n",
            "CV: 22\n",
            "Mean Accuracy: 0.23974770748964297\n",
            "Scores: [0.20634921 0.26984127 0.19047619 0.19047619 0.25396825 0.26984127\n",
            " 0.22222222 0.22222222 0.23809524 0.23809524 0.23809524 0.25396825\n",
            " 0.22222222 0.12698413 0.23809524 0.33333333 0.36507937 0.28571429\n",
            " 0.23809524 0.19047619 0.19047619 0.29032258]\n",
            "----------\n",
            "CV: 23\n",
            "Mean Accuracy: 0.24417913993822762\n",
            "Scores: [0.2295082  0.24590164 0.14754098 0.18032787 0.2295082  0.3\n",
            " 0.26666667 0.2        0.26666667 0.2        0.3        0.3\n",
            " 0.21666667 0.26666667 0.13333333 0.23333333 0.33333333 0.3\n",
            " 0.26666667 0.25       0.23333333 0.21666667 0.3       ]\n",
            "----------\n",
            "CV: 24\n",
            "Mean Accuracy: 0.2463954426295624\n",
            "Scores: [0.24137931 0.24137931 0.17241379 0.27586207 0.22413793 0.22413793\n",
            " 0.29310345 0.15517241 0.27586207 0.25862069 0.29310345 0.20689655\n",
            " 0.22413793 0.20689655 0.20689655 0.15517241 0.27586207 0.35087719\n",
            " 0.31578947 0.26315789 0.31578947 0.24561404 0.21052632 0.28070175]\n",
            "----------\n",
            "CV: 25\n",
            "Mean Accuracy: 0.24487012987012985\n",
            "Scores: [0.21428571 0.19642857 0.17857143 0.26785714 0.19642857 0.26785714\n",
            " 0.26785714 0.21428571 0.25       0.25       0.23636364 0.27272727\n",
            " 0.27272727 0.23636364 0.27272727 0.10909091 0.23636364 0.30909091\n",
            " 0.4        0.25454545 0.25454545 0.25454545 0.2        0.23636364\n",
            " 0.27272727]\n",
            "----------\n",
            "CV: 26\n",
            "Mean Accuracy: 0.24193678438961455\n",
            "Scores: [0.22222222 0.22222222 0.18518519 0.22222222 0.2037037  0.27777778\n",
            " 0.27777778 0.20754717 0.26415094 0.32075472 0.22641509 0.28301887\n",
            " 0.24528302 0.24528302 0.18867925 0.24528302 0.11320755 0.22641509\n",
            " 0.37735849 0.30188679 0.32075472 0.13207547 0.26415094 0.22641509\n",
            " 0.20754717 0.28301887]\n",
            "----------\n",
            "CV: 27\n",
            "Mean Accuracy: 0.24125747164962852\n",
            "Scores: [0.19230769 0.23076923 0.25       0.19230769 0.13461538 0.25\n",
            " 0.21153846 0.32692308 0.25490196 0.19607843 0.23529412 0.2745098\n",
            " 0.2745098  0.25490196 0.25490196 0.23529412 0.15686275 0.19607843\n",
            " 0.21568627 0.39215686 0.31372549 0.29411765 0.25490196 0.15686275\n",
            " 0.2745098  0.23529412 0.25490196]\n",
            "----------\n",
            "CV: 28\n",
            "Mean Accuracy: 0.23839650145772592\n",
            "Scores: [0.2        0.26       0.22       0.2        0.14       0.28\n",
            " 0.22       0.28       0.2        0.22       0.26       0.22\n",
            " 0.22       0.26530612 0.28571429 0.14285714 0.24489796 0.10204082\n",
            " 0.26530612 0.24489796 0.40816327 0.32653061 0.24489796 0.2244898\n",
            " 0.20408163 0.26530612 0.24489796 0.28571429]\n",
            "----------\n",
            "CV: 29\n",
            "Mean Accuracy: 0.24206713132795296\n",
            "Scores: [0.1875     0.22916667 0.22916667 0.14583333 0.20833333 0.1875\n",
            " 0.29166667 0.25       0.16666667 0.22916667 0.25       0.27083333\n",
            " 0.27083333 0.22916667 0.27083333 0.27083333 0.1875     0.1875\n",
            " 0.14583333 0.22916667 0.3125     0.3125     0.34042553 0.31914894\n",
            " 0.27659574 0.21276596 0.25531915 0.27659574 0.27659574]\n",
            "----------\n",
            "CV: 30\n",
            "Mean Accuracy: 0.24708603145235894\n",
            "Scores: [0.19148936 0.23404255 0.25531915 0.14893617 0.19148936 0.23913043\n",
            " 0.26086957 0.19565217 0.23913043 0.23913043 0.26086957 0.2826087\n",
            " 0.2826087  0.2173913  0.26086957 0.26086957 0.19565217 0.2826087\n",
            " 0.13043478 0.17391304 0.30434783 0.36956522 0.32608696 0.30434783\n",
            " 0.2173913  0.30434783 0.19565217 0.26086957 0.30434783 0.2826087 ]\n",
            "----------\n"
          ]
        },
        {
          "output_type": "display_data",
          "data": {
            "text/plain": [
              "<Figure size 640x480 with 1 Axes>"
            ],
            "image/png": "[encoded data removed]"
          },
          "metadata": {}
        }
      ]
    },
    {
      "cell_type": "markdown",
      "source": [
        "Anche in questo caso gli esperimento non sono andati a buon fine e vediamo come tendendo a lanciare il Gaussian Naive Bayes con dicersi valori K per i fold i massimi si raggiungono tra 17-25 su tutti i plot effettuati con iterazione da 2 a 30, 100 e 300 fold notiamo che il GB ho meno varianza rispetto al decision tree il quale oscillava tra valori di accurancy bassi fino al 18% e poteva arrivare anche olre il 30% qui il GB oscilla in un intervallo più stretto tra 22% e 26% tuttavia il 26% viene raggiunto pochissime volte negli esperimenti fatti per tali ragioni ad oggi sembra che il decision tree nonostante abbia più varianza si compori meglio."
      ],
      "metadata": {
        "id": "lIi_sf0KDXo9"
      }
    }
  ],
  "metadata": {
    "colab": {
      "name": "Overview of Colaboratory Features",
      "provenance": [],
      "include_colab_link": true
    },
    "kernelspec": {
      "display_name": "Python 3",
      "name": "python3"
    }
  },
  "nbformat": 4,
  "nbformat_minor": 0
}