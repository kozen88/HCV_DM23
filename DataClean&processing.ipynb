{
  "cells": [
    {
      "cell_type": "markdown",
      "metadata": {
        "id": "view-in-github",
        "colab_type": "text"
      },
      "source": [
        "<a href=\"https://colab.research.google.com/github/kozen88/HCV_DM23/blob/main/DataClean%26processing.ipynb\" target=\"_parent\"><img src=\"https://colab.research.google.com/assets/colab-badge.svg\" alt=\"Open In Colab\"/></a>"
      ]
    },
    {
      "cell_type": "markdown",
      "source": [
        "# Data cleaning and preparation for future training"
      ],
      "metadata": {
        "id": "PsutaowSPUkP"
      }
    },
    {
      "cell_type": "code",
      "source": [
        "import pandas as pd\n",
        "import matplotlib.pyplot as plt\n",
        "%matplotlib inline\n",
        "import numpy as np\n",
        "import seaborn as sb\n",
        "sb.set()"
      ],
      "metadata": {
        "id": "4S753qmePko6"
      },
      "execution_count": 73,
      "outputs": []
    },
    {
      "cell_type": "code",
      "source": [
        "df = pd.read_csv('HCV-Egy-Data.csv', delimiter=',')\n",
        "print(df)"
      ],
      "metadata": {
        "id": "paoiEU4-QXrs",
        "outputId": "3b7d69d6-2524-4708-9d0c-a0bd116702c4",
        "colab": {
          "base_uri": "https://localhost:8080/"
        }
      },
      "execution_count": 91,
      "outputs": [
        {
          "output_type": "stream",
          "name": "stdout",
          "text": [
            "      Age   Gender  BMI  Fever  Nausea/Vomting  Headache   Diarrhea   \\\n",
            "0       56       1   35      2               1          1          1   \n",
            "1       46       1   29      1               2          2          1   \n",
            "2       57       1   33      2               2          2          2   \n",
            "3       49       2   33      1               2          1          2   \n",
            "4       59       1   32      1               1          2          1   \n",
            "...    ...     ...  ...    ...             ...        ...        ...   \n",
            "1380    44       1   29      1               2          2          2   \n",
            "1381    55       1   34      1               2          2          1   \n",
            "1382    42       1   26      2               2          1          1   \n",
            "1383    52       1   29      2               1          1          2   \n",
            "1384    55       2   26      1               2          2          2   \n",
            "\n",
            "      Fatigue & generalized bone ache   Jaundice   Epigastric pain   ...  \\\n",
            "0                                    2          2                 2  ...   \n",
            "1                                    2          2                 1  ...   \n",
            "2                                    1          1                 1  ...   \n",
            "3                                    1          2                 1  ...   \n",
            "4                                    2          2                 2  ...   \n",
            "...                                ...        ...               ...  ...   \n",
            "1380                                 1          1                 1  ...   \n",
            "1381                                 1          1                 1  ...   \n",
            "1382                                 1          2                 1  ...   \n",
            "1383                                 2          2                 1  ...   \n",
            "1384                                 1          2                 1  ...   \n",
            "\n",
            "      ALT 36  ALT 48  ALT after 24 w  RNA Base   RNA 4   RNA 12  RNA EOT  \\\n",
            "0          5       5               5    655330  634536   288194        5   \n",
            "1         57     123              44     40620  538635   637056   336804   \n",
            "2          5       5               5    571148  661346        5   735945   \n",
            "3         48      77              33   1041941  449939   585688   744463   \n",
            "4         94      90              30    660410  738756  3731527   338946   \n",
            "...      ...     ...             ...       ...     ...      ...      ...   \n",
            "1380      63      44              45    387795   55938        5        5   \n",
            "1381      97      64              41    481378  152961   393339    73574   \n",
            "1382      87      39              24    612664  572756   806109   343719   \n",
            "1383      48      81              43    139872   76161   515730     2460   \n",
            "1384      64      71              34   1190577  628730        5        5   \n",
            "\n",
            "      RNA EF  Baseline histological Grading  Baselinehistological staging  \n",
            "0          5                             13                             2  \n",
            "1      31085                              4                             2  \n",
            "2     558829                              4                             4  \n",
            "3     582301                             10                             3  \n",
            "4     242861                             11                             1  \n",
            "...      ...                            ...                           ...  \n",
            "1380       5                             15                             4  \n",
            "1381  236273                             10                             2  \n",
            "1382  160457                              6                             2  \n",
            "1383  696074                             15                             3  \n",
            "1384       5                             13                             3  \n",
            "\n",
            "[1385 rows x 29 columns]\n"
          ]
        }
      ]
    },
    {
      "cell_type": "markdown",
      "source": [
        "## Data replacement 1\n",
        "Si è vagliata la possibilità che i valori nel data set che avessero il valore uguale a 5.0 fossero dei possibili valori di default assegnati quando in realtà il dato non è stato misurato o raccolto. Partendo da tale ipotesi si vuole sostituire questi valori con dei valori null e vedere il comportamento dei modelli in tali condizioni."
      ],
      "metadata": {
        "id": "o9PqpQFfUm2B"
      }
    },
    {
      "cell_type": "code",
      "source": [
        "# Display the original DataFrame\n",
        "print(\"Original DataFrame:\")\n",
        "print(df)\n",
        "\n",
        "# Replace the values equal to 5.0 with null values\n",
        "df['RNA 12'] = df['RNA 12'].replace(5.0, np.nan)\n",
        "df['RNA EOT'] = df['RNA EOT'].replace(5.0, np.nan)\n",
        "df['RNA EF'] = df['RNA EF'].replace(5.0, np.nan)\n",
        "df['ALT 36'] = df['ALT 36'].replace(5.0, np.nan)\n",
        "df['ALT 48'] = df['ALT 48'].replace(5.0, np.nan)\n",
        "df['ALT after 24 w'] = df['ALT after 24 w'].replace(5.0, np.nan)\n",
        "\n",
        "# Display the modified DataFrame\n",
        "print(\"\\nModified DataFrame:\")\n",
        "print(df)"
      ],
      "metadata": {
        "id": "DDvmcICRRdTz",
        "outputId": "f806a537-b532-4c08-fffa-7feed94eb0bf",
        "colab": {
          "base_uri": "https://localhost:8080/"
        }
      },
      "execution_count": 92,
      "outputs": [
        {
          "output_type": "stream",
          "name": "stdout",
          "text": [
            "Original DataFrame:\n",
            "      Age   Gender  BMI  Fever  Nausea/Vomting  Headache   Diarrhea   \\\n",
            "0       56       1   35      2               1          1          1   \n",
            "1       46       1   29      1               2          2          1   \n",
            "2       57       1   33      2               2          2          2   \n",
            "3       49       2   33      1               2          1          2   \n",
            "4       59       1   32      1               1          2          1   \n",
            "...    ...     ...  ...    ...             ...        ...        ...   \n",
            "1380    44       1   29      1               2          2          2   \n",
            "1381    55       1   34      1               2          2          1   \n",
            "1382    42       1   26      2               2          1          1   \n",
            "1383    52       1   29      2               1          1          2   \n",
            "1384    55       2   26      1               2          2          2   \n",
            "\n",
            "      Fatigue & generalized bone ache   Jaundice   Epigastric pain   ...  \\\n",
            "0                                    2          2                 2  ...   \n",
            "1                                    2          2                 1  ...   \n",
            "2                                    1          1                 1  ...   \n",
            "3                                    1          2                 1  ...   \n",
            "4                                    2          2                 2  ...   \n",
            "...                                ...        ...               ...  ...   \n",
            "1380                                 1          1                 1  ...   \n",
            "1381                                 1          1                 1  ...   \n",
            "1382                                 1          2                 1  ...   \n",
            "1383                                 2          2                 1  ...   \n",
            "1384                                 1          2                 1  ...   \n",
            "\n",
            "      ALT 36  ALT 48  ALT after 24 w  RNA Base   RNA 4   RNA 12  RNA EOT  \\\n",
            "0          5       5               5    655330  634536   288194        5   \n",
            "1         57     123              44     40620  538635   637056   336804   \n",
            "2          5       5               5    571148  661346        5   735945   \n",
            "3         48      77              33   1041941  449939   585688   744463   \n",
            "4         94      90              30    660410  738756  3731527   338946   \n",
            "...      ...     ...             ...       ...     ...      ...      ...   \n",
            "1380      63      44              45    387795   55938        5        5   \n",
            "1381      97      64              41    481378  152961   393339    73574   \n",
            "1382      87      39              24    612664  572756   806109   343719   \n",
            "1383      48      81              43    139872   76161   515730     2460   \n",
            "1384      64      71              34   1190577  628730        5        5   \n",
            "\n",
            "      RNA EF  Baseline histological Grading  Baselinehistological staging  \n",
            "0          5                             13                             2  \n",
            "1      31085                              4                             2  \n",
            "2     558829                              4                             4  \n",
            "3     582301                             10                             3  \n",
            "4     242861                             11                             1  \n",
            "...      ...                            ...                           ...  \n",
            "1380       5                             15                             4  \n",
            "1381  236273                             10                             2  \n",
            "1382  160457                              6                             2  \n",
            "1383  696074                             15                             3  \n",
            "1384       5                             13                             3  \n",
            "\n",
            "[1385 rows x 29 columns]\n",
            "\n",
            "Modified DataFrame:\n",
            "      Age   Gender  BMI  Fever  Nausea/Vomting  Headache   Diarrhea   \\\n",
            "0       56       1   35      2               1          1          1   \n",
            "1       46       1   29      1               2          2          1   \n",
            "2       57       1   33      2               2          2          2   \n",
            "3       49       2   33      1               2          1          2   \n",
            "4       59       1   32      1               1          2          1   \n",
            "...    ...     ...  ...    ...             ...        ...        ...   \n",
            "1380    44       1   29      1               2          2          2   \n",
            "1381    55       1   34      1               2          2          1   \n",
            "1382    42       1   26      2               2          1          1   \n",
            "1383    52       1   29      2               1          1          2   \n",
            "1384    55       2   26      1               2          2          2   \n",
            "\n",
            "      Fatigue & generalized bone ache   Jaundice   Epigastric pain   ...  \\\n",
            "0                                    2          2                 2  ...   \n",
            "1                                    2          2                 1  ...   \n",
            "2                                    1          1                 1  ...   \n",
            "3                                    1          2                 1  ...   \n",
            "4                                    2          2                 2  ...   \n",
            "...                                ...        ...               ...  ...   \n",
            "1380                                 1          1                 1  ...   \n",
            "1381                                 1          1                 1  ...   \n",
            "1382                                 1          2                 1  ...   \n",
            "1383                                 2          2                 1  ...   \n",
            "1384                                 1          2                 1  ...   \n",
            "\n",
            "      ALT 36  ALT 48  ALT after 24 w  RNA Base   RNA 4     RNA 12   RNA EOT  \\\n",
            "0        NaN     NaN             NaN    655330  634536   288194.0       NaN   \n",
            "1       57.0   123.0            44.0     40620  538635   637056.0  336804.0   \n",
            "2        NaN     NaN             NaN    571148  661346        NaN  735945.0   \n",
            "3       48.0    77.0            33.0   1041941  449939   585688.0  744463.0   \n",
            "4       94.0    90.0            30.0    660410  738756  3731527.0  338946.0   \n",
            "...      ...     ...             ...       ...     ...        ...       ...   \n",
            "1380    63.0    44.0            45.0    387795   55938        NaN       NaN   \n",
            "1381    97.0    64.0            41.0    481378  152961   393339.0   73574.0   \n",
            "1382    87.0    39.0            24.0    612664  572756   806109.0  343719.0   \n",
            "1383    48.0    81.0            43.0    139872   76161   515730.0    2460.0   \n",
            "1384    64.0    71.0            34.0   1190577  628730        NaN       NaN   \n",
            "\n",
            "        RNA EF  Baseline histological Grading  Baselinehistological staging  \n",
            "0          NaN                             13                             2  \n",
            "1      31085.0                              4                             2  \n",
            "2     558829.0                              4                             4  \n",
            "3     582301.0                             10                             3  \n",
            "4     242861.0                             11                             1  \n",
            "...        ...                            ...                           ...  \n",
            "1380       NaN                             15                             4  \n",
            "1381  236273.0                             10                             2  \n",
            "1382  160457.0                              6                             2  \n",
            "1383  696074.0                             15                             3  \n",
            "1384       NaN                             13                             3  \n",
            "\n",
            "[1385 rows x 29 columns]\n"
          ]
        }
      ]
    },
    {
      "cell_type": "code",
      "source": [
        "df.to_csv(\"HCV_null_hipotesis.csv\", index=False)\n",
        "df.to_excel(\"HCV_null_Hip.xlsx\", index=False)"
      ],
      "metadata": {
        "id": "xVnBBlJBTGwq"
      },
      "execution_count": 76,
      "outputs": []
    },
    {
      "cell_type": "markdown",
      "source": [
        "## Data replecement 2\n",
        "Un altra possibile ipotesi di analisi e che i valori 5.0 poichè non rappresentano il minimo del test fatto in quanto il minimo è 12 per il test di Abott sia tutti errori di raccolta dei dati e quindi sotto questa impotesi utlizzeremo un Imputer per sostituirli con il valor medio della rispettiva colonna."
      ],
      "metadata": {
        "id": "p8_xzERkVp8r"
      }
    },
    {
      "cell_type": "code",
      "source": [
        "from sklearn.impute import SimpleImputer\n",
        "\n",
        "# Istanziamo un oggetto Imputer che andrà a sostituire i valori che specificheremo con la media\n",
        "imputer = SimpleImputer(strategy='mean')\n",
        "\n",
        "# l'imputer entra in azione sul dataframe\n",
        "df_imputed = pd.DataFrame(imputer.fit_transform(df), columns=df.columns)\n",
        "\n",
        "# Display the modified DataFrame\n",
        "print(df_imputed)"
      ],
      "metadata": {
        "id": "9yVrLASXWbpc",
        "outputId": "86d038be-131a-4fea-e850-96c735606456",
        "colab": {
          "base_uri": "https://localhost:8080/"
        }
      },
      "execution_count": 77,
      "outputs": [
        {
          "output_type": "stream",
          "name": "stdout",
          "text": [
            "      Age   Gender   BMI  Fever  Nausea/Vomting  Headache   Diarrhea   \\\n",
            "0     56.0     1.0  35.0    2.0             1.0        1.0        1.0   \n",
            "1     46.0     1.0  29.0    1.0             2.0        2.0        1.0   \n",
            "2     57.0     1.0  33.0    2.0             2.0        2.0        2.0   \n",
            "3     49.0     2.0  33.0    1.0             2.0        1.0        2.0   \n",
            "4     59.0     1.0  32.0    1.0             1.0        2.0        1.0   \n",
            "...    ...     ...   ...    ...             ...        ...        ...   \n",
            "1380  44.0     1.0  29.0    1.0             2.0        2.0        2.0   \n",
            "1381  55.0     1.0  34.0    1.0             2.0        2.0        1.0   \n",
            "1382  42.0     1.0  26.0    2.0             2.0        1.0        1.0   \n",
            "1383  52.0     1.0  29.0    2.0             1.0        1.0        2.0   \n",
            "1384  55.0     2.0  26.0    1.0             2.0        2.0        2.0   \n",
            "\n",
            "      Fatigue & generalized bone ache   Jaundice   Epigastric pain   ...  \\\n",
            "0                                  2.0        2.0               2.0  ...   \n",
            "1                                  2.0        2.0               1.0  ...   \n",
            "2                                  1.0        1.0               1.0  ...   \n",
            "3                                  1.0        2.0               1.0  ...   \n",
            "4                                  2.0        2.0               2.0  ...   \n",
            "...                                ...        ...               ...  ...   \n",
            "1380                               1.0        1.0               1.0  ...   \n",
            "1381                               1.0        1.0               1.0  ...   \n",
            "1382                               1.0        2.0               1.0  ...   \n",
            "1383                               2.0        2.0               1.0  ...   \n",
            "1384                               1.0        2.0               1.0  ...   \n",
            "\n",
            "         ALT 36      ALT 48  ALT after 24 w   RNA Base     RNA 4       RNA 12  \\\n",
            "0     83.287265   83.800289            33.5   655330.0  634536.0   288194.000   \n",
            "1     57.000000  123.000000            44.0    40620.0  538635.0   637056.000   \n",
            "2     83.287265   83.800289            33.5   571148.0  661346.0   399921.828   \n",
            "3     48.000000   77.000000            33.0  1041941.0  449939.0   585688.000   \n",
            "4     94.000000   90.000000            30.0   660410.0  738756.0  3731527.000   \n",
            "...         ...         ...             ...        ...       ...          ...   \n",
            "1380  63.000000   44.000000            45.0   387795.0   55938.0   399921.828   \n",
            "1381  97.000000   64.000000            41.0   481378.0  152961.0   393339.000   \n",
            "1382  87.000000   39.000000            24.0   612664.0  572756.0   806109.000   \n",
            "1383  48.000000   81.000000            43.0   139872.0   76161.0   515730.000   \n",
            "1384  64.000000   71.000000            34.0  1190577.0  628730.0   399921.828   \n",
            "\n",
            "            RNA EOT         RNA EF  Baseline histological Grading  \\\n",
            "0     398009.636364  402349.973081                           13.0   \n",
            "1     336804.000000   31085.000000                            4.0   \n",
            "2     735945.000000  558829.000000                            4.0   \n",
            "3     744463.000000  582301.000000                           10.0   \n",
            "4     338946.000000  242861.000000                           11.0   \n",
            "...             ...            ...                            ...   \n",
            "1380  398009.636364  402349.973081                           15.0   \n",
            "1381   73574.000000  236273.000000                           10.0   \n",
            "1382  343719.000000  160457.000000                            6.0   \n",
            "1383    2460.000000  696074.000000                           15.0   \n",
            "1384  398009.636364  402349.973081                           13.0   \n",
            "\n",
            "      Baselinehistological staging  \n",
            "0                              2.0  \n",
            "1                              2.0  \n",
            "2                              4.0  \n",
            "3                              3.0  \n",
            "4                              1.0  \n",
            "...                            ...  \n",
            "1380                           4.0  \n",
            "1381                           2.0  \n",
            "1382                           2.0  \n",
            "1383                           3.0  \n",
            "1384                           3.0  \n",
            "\n",
            "[1385 rows x 29 columns]\n"
          ]
        }
      ]
    },
    {
      "cell_type": "markdown",
      "source": [
        "Andiamo a creare due file rispettivamente un excell per andare a contrallare il lavoro svolto e un csv per futuri utilizzi senza doverlo ricreare"
      ],
      "metadata": {
        "id": "EfZhrn13Z4Cf"
      }
    },
    {
      "cell_type": "code",
      "source": [
        "df_imputed.to_csv(\"HCV_ImputerMean.csv\", index=False)\n",
        "df_imputed.to_excel(\"HCV_ImputerMean.xlsx\", index=False)"
      ],
      "metadata": {
        "id": "q3UeT-rIZjZs"
      },
      "execution_count": 79,
      "outputs": []
    },
    {
      "cell_type": "markdown",
      "source": [
        "## Replacement 3\n",
        "In questo caso andremo a lavorare con l'ipotesi che i 5 rappresentino il valore di range basso minimo per il test e lo sostituiremo con il minimo valore per l'rna e con un valore all'interno del range normale per l'alt."
      ],
      "metadata": {
        "id": "riYoK1cMbz1p"
      }
    },
    {
      "cell_type": "code",
      "source": [
        "# assicuriamoci che ogni categoria di nullo sia trattata allo stesso modo\n",
        "missing_values = ['None', 'NA', 'Missing', 'NaN', 'N/A']\n",
        "df = df.replace(missing_values, np.nan)\n",
        "\n",
        "# list contenente colonne da dare in pasto all'imputer\n",
        "columns_to_impute = ['RNA 12', 'RNA EOT', 'RNA EF']\n",
        "\n",
        "# istanziazione dell'imputer\n",
        "imputer_rna = SimpleImputer(strategy='constant', fill_value=12)\n",
        "\n",
        "# mettiamo in azione l'imputer\n",
        "df[columns_to_impute] = imputer_rna.fit_transform(df[columns_to_impute])\n",
        "\n",
        "# Display the modified DataFrame\n",
        "print(df)\n"
      ],
      "metadata": {
        "id": "KZvJZSQse_ap",
        "outputId": "57c2640e-db95-4c2a-baaa-793b4875ea4a",
        "colab": {
          "base_uri": "https://localhost:8080/"
        }
      },
      "execution_count": 93,
      "outputs": [
        {
          "output_type": "stream",
          "name": "stdout",
          "text": [
            "      Age   Gender  BMI  Fever  Nausea/Vomting  Headache   Diarrhea   \\\n",
            "0       56       1   35      2               1          1          1   \n",
            "1       46       1   29      1               2          2          1   \n",
            "2       57       1   33      2               2          2          2   \n",
            "3       49       2   33      1               2          1          2   \n",
            "4       59       1   32      1               1          2          1   \n",
            "...    ...     ...  ...    ...             ...        ...        ...   \n",
            "1380    44       1   29      1               2          2          2   \n",
            "1381    55       1   34      1               2          2          1   \n",
            "1382    42       1   26      2               2          1          1   \n",
            "1383    52       1   29      2               1          1          2   \n",
            "1384    55       2   26      1               2          2          2   \n",
            "\n",
            "      Fatigue & generalized bone ache   Jaundice   Epigastric pain   ...  \\\n",
            "0                                    2          2                 2  ...   \n",
            "1                                    2          2                 1  ...   \n",
            "2                                    1          1                 1  ...   \n",
            "3                                    1          2                 1  ...   \n",
            "4                                    2          2                 2  ...   \n",
            "...                                ...        ...               ...  ...   \n",
            "1380                                 1          1                 1  ...   \n",
            "1381                                 1          1                 1  ...   \n",
            "1382                                 1          2                 1  ...   \n",
            "1383                                 2          2                 1  ...   \n",
            "1384                                 1          2                 1  ...   \n",
            "\n",
            "      ALT 36  ALT 48  ALT after 24 w  RNA Base   RNA 4     RNA 12   RNA EOT  \\\n",
            "0        NaN     NaN             NaN    655330  634536   288194.0      12.0   \n",
            "1       57.0   123.0            44.0     40620  538635   637056.0  336804.0   \n",
            "2        NaN     NaN             NaN    571148  661346       12.0  735945.0   \n",
            "3       48.0    77.0            33.0   1041941  449939   585688.0  744463.0   \n",
            "4       94.0    90.0            30.0    660410  738756  3731527.0  338946.0   \n",
            "...      ...     ...             ...       ...     ...        ...       ...   \n",
            "1380    63.0    44.0            45.0    387795   55938       12.0      12.0   \n",
            "1381    97.0    64.0            41.0    481378  152961   393339.0   73574.0   \n",
            "1382    87.0    39.0            24.0    612664  572756   806109.0  343719.0   \n",
            "1383    48.0    81.0            43.0    139872   76161   515730.0    2460.0   \n",
            "1384    64.0    71.0            34.0   1190577  628730       12.0      12.0   \n",
            "\n",
            "        RNA EF  Baseline histological Grading  Baselinehistological staging  \n",
            "0         12.0                             13                             2  \n",
            "1      31085.0                              4                             2  \n",
            "2     558829.0                              4                             4  \n",
            "3     582301.0                             10                             3  \n",
            "4     242861.0                             11                             1  \n",
            "...        ...                            ...                           ...  \n",
            "1380      12.0                             15                             4  \n",
            "1381  236273.0                             10                             2  \n",
            "1382  160457.0                              6                             2  \n",
            "1383  696074.0                             15                             3  \n",
            "1384      12.0                             13                             3  \n",
            "\n",
            "[1385 rows x 29 columns]\n"
          ]
        }
      ]
    },
    {
      "cell_type": "code",
      "source": [
        "# list contenente colonne da dare in pasto all'imputer\n",
        "columns_to_impute = ['ALT 36', 'ALT 48', 'ALT after 24 w']\n",
        "\n",
        "# istanziazione dell'imputer\n",
        "imputer_alt = SimpleImputer(strategy='constant', fill_value=35)\n",
        "\n",
        "# mettiamo in azione l'imputer\n",
        "df[columns_to_impute] = imputer_alt.fit_transform(df[columns_to_impute])\n",
        "\n",
        "# Display the modified DataFrame\n",
        "print(df)\n"
      ],
      "metadata": {
        "id": "YhwuVriIhD5w",
        "outputId": "18804a8b-24fe-4007-ca20-06148d116875",
        "colab": {
          "base_uri": "https://localhost:8080/"
        }
      },
      "execution_count": 94,
      "outputs": [
        {
          "output_type": "stream",
          "name": "stdout",
          "text": [
            "      Age   Gender  BMI  Fever  Nausea/Vomting  Headache   Diarrhea   \\\n",
            "0       56       1   35      2               1          1          1   \n",
            "1       46       1   29      1               2          2          1   \n",
            "2       57       1   33      2               2          2          2   \n",
            "3       49       2   33      1               2          1          2   \n",
            "4       59       1   32      1               1          2          1   \n",
            "...    ...     ...  ...    ...             ...        ...        ...   \n",
            "1380    44       1   29      1               2          2          2   \n",
            "1381    55       1   34      1               2          2          1   \n",
            "1382    42       1   26      2               2          1          1   \n",
            "1383    52       1   29      2               1          1          2   \n",
            "1384    55       2   26      1               2          2          2   \n",
            "\n",
            "      Fatigue & generalized bone ache   Jaundice   Epigastric pain   ...  \\\n",
            "0                                    2          2                 2  ...   \n",
            "1                                    2          2                 1  ...   \n",
            "2                                    1          1                 1  ...   \n",
            "3                                    1          2                 1  ...   \n",
            "4                                    2          2                 2  ...   \n",
            "...                                ...        ...               ...  ...   \n",
            "1380                                 1          1                 1  ...   \n",
            "1381                                 1          1                 1  ...   \n",
            "1382                                 1          2                 1  ...   \n",
            "1383                                 2          2                 1  ...   \n",
            "1384                                 1          2                 1  ...   \n",
            "\n",
            "      ALT 36  ALT 48  ALT after 24 w  RNA Base   RNA 4     RNA 12   RNA EOT  \\\n",
            "0       35.0    35.0            35.0    655330  634536   288194.0      12.0   \n",
            "1       57.0   123.0            44.0     40620  538635   637056.0  336804.0   \n",
            "2       35.0    35.0            35.0    571148  661346       12.0  735945.0   \n",
            "3       48.0    77.0            33.0   1041941  449939   585688.0  744463.0   \n",
            "4       94.0    90.0            30.0    660410  738756  3731527.0  338946.0   \n",
            "...      ...     ...             ...       ...     ...        ...       ...   \n",
            "1380    63.0    44.0            45.0    387795   55938       12.0      12.0   \n",
            "1381    97.0    64.0            41.0    481378  152961   393339.0   73574.0   \n",
            "1382    87.0    39.0            24.0    612664  572756   806109.0  343719.0   \n",
            "1383    48.0    81.0            43.0    139872   76161   515730.0    2460.0   \n",
            "1384    64.0    71.0            34.0   1190577  628730       12.0      12.0   \n",
            "\n",
            "        RNA EF  Baseline histological Grading  Baselinehistological staging  \n",
            "0         12.0                             13                             2  \n",
            "1      31085.0                              4                             2  \n",
            "2     558829.0                              4                             4  \n",
            "3     582301.0                             10                             3  \n",
            "4     242861.0                             11                             1  \n",
            "...        ...                            ...                           ...  \n",
            "1380      12.0                             15                             4  \n",
            "1381  236273.0                             10                             2  \n",
            "1382  160457.0                              6                             2  \n",
            "1383  696074.0                             15                             3  \n",
            "1384      12.0                             13                             3  \n",
            "\n",
            "[1385 rows x 29 columns]\n"
          ]
        }
      ]
    },
    {
      "cell_type": "code",
      "source": [
        "df.to_csv(\"HCV_rna12_alt35.csv\", index=False)\n",
        "df.to_excel(\"HCV_rna12_alt35.xlsx\", index=False)"
      ],
      "metadata": {
        "id": "3oTer1EQhcdl"
      },
      "execution_count": 95,
      "outputs": []
    }
  ],
  "metadata": {
    "colab": {
      "name": "Un benvenuto a Colaboratory",
      "provenance": [],
      "include_colab_link": true
    },
    "kernelspec": {
      "display_name": "Python 3",
      "name": "python3"
    }
  },
  "nbformat": 4,
  "nbformat_minor": 0
}